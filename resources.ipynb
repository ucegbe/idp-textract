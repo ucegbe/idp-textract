{
 "cells": [
  {
   "cell_type": "markdown",
   "metadata": {},
   "source": [
    "#### Create DynamoDB Table\n",
    "A DynamoDB Table is created with a user ID as partition Key and Session ID as sort key. \n",
    "This enables saving multiple chat session history under the same user id.\\\n",
    "Provide a bucket name that would be used to cache Amazon Textract results for document OCR."
   ]
  },
  {
   "cell_type": "code",
   "execution_count": null,
   "metadata": {},
   "outputs": [],
   "source": [
    "DYNAMODB_TABLE=\"SessionChatHistory\"  #DynamoDB Table Name\n",
    "DYNAMODB  = boto3.resource('dynamodb')"
   ]
  },
  {
   "cell_type": "code",
   "execution_count": null,
   "metadata": {},
   "outputs": [],
   "source": [
    "import boto3\n",
    "try:\n",
    "    table = DYNAMODB.create_table(\n",
    "        TableName=DYNAMODB_TABLE,\n",
    "        KeySchema=[\n",
    "            {\n",
    "                'AttributeName': 'UserId',  # Partition key\n",
    "                'KeyType': 'HASH'  \n",
    "            },\n",
    "            {\n",
    "                'AttributeName': 'SessionId',   # Sort key\n",
    "                'KeyType': 'RANGE'\n",
    "            }\n",
    "        ],\n",
    "        AttributeDefinitions=[\n",
    "            {\n",
    "                'AttributeName': 'UserId',\n",
    "                'AttributeType': 'S'   # String data type\n",
    "            },\n",
    "            {\n",
    "                'AttributeName': 'SessionId',\n",
    "                'AttributeType': 'S'\n",
    "            },\n",
    "        ],\n",
    "        BillingMode='PAY_PER_REQUEST'  # On-demand billing\n",
    "    )\n",
    "\n",
    "    print(\"Table status:\", table.table_status)\n",
    "\n",
    "    # Wait until the table exists.\n",
    "    table.meta.client.get_waiter(\"table_exists\").wait(TableName=DYNAMODB_TABLE)\n",
    "    print(table.item_count)\n",
    "except dynamo.exceptions.ResourceInUseException as e:\n",
    "    print(e.response['Error']['Message'])"
   ]
  },
  {
   "cell_type": "markdown",
   "metadata": {},
   "source": [
    "Modify the `config.json` file with created DynamoDB name."
   ]
  }
 ],
 "metadata": {
  "language_info": {
   "name": "python"
  },
  "orig_nbformat": 4
 },
 "nbformat": 4,
 "nbformat_minor": 2
}
